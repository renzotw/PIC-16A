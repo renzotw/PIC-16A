{
 "cells": [
  {
   "cell_type": "markdown",
   "metadata": {},
   "source": [
    "- By Renzo Tanaka-Wong\n",
    "- Oct 20th, 2020\n",
    "\n",
    "I aﬀirm that I personally wrote the text, code, and comments in this homework assignment.\n",
    "\n",
    "Note: Checked output times of markov_text function for part 4 with Zachary Qian"
   ]
  },
  {
   "cell_type": "markdown",
   "metadata": {},
   "source": [
    "# HW2: Markov Models of Natural Language\n",
    "\n",
    "## Language Models\n",
    "\n",
    "Many of you may have encountered the output of machine learning models which, when \"seeded\" with a small amount of text, produce a larger corpus of text which is expected to be similar or relevant to the seed text. For example, there's been a lot of buzz about the new [GPT-3 model](https://en.wikipedia.org/wiki/GPT-3), related to its [carbon footprint](https://www.forbes.com/sites/robtoews/2020/06/17/deep-learnings-climate-change-problem/#2781c1b16b43), [bigoted tendencies](https://medium.com/fair-bytes/how-biased-is-gpt-3-5b2b91f1177), and, yes, impressive (and often [humorous](https://aiweirdness.com/)) [ability to replicate human-like text in response to prompts.](https://www.technologyreview.com/2020/07/20/1005454/openai-machine-learning-language-generator-gpt-3-nlp/) \n",
    "\n",
    "We are not going to program a complicated deep learning model in Week 2, but we will construct a much simpler language model that performs the same task. Using tools like iteration and dictionaries, we will create a family of **Markov language models** for generating text. For the purposes of this assignment, an $n$-th order Markov model is a function that constructs a string of text one letter at a time, using only knowledge of the most recent $n$ letters. You can think of it as a writer with a \"memory\" of $n$ letters. \n",
    "\n",
    "## Data\n",
    "\n",
    "Our text for this exercise comes from Francis Su's [Retiring Presidential Address](https://mathyawp.wordpress.com/2017/01/08/mathematics-for-human-flourishing/) at the 2017 Joint Math Meetings, entitled \"Mathematics for Human Flourishing.\" In the machine learning community, this text would often be described as the \"training data.\" "
   ]
  },
  {
   "cell_type": "code",
   "execution_count": 2,
   "metadata": {},
   "outputs": [],
   "source": [
    "corpus = 'Every being cries out silently to be read differently.  ― Simone Weil, Gravity and Grace Christopher is an inmate in a high-security federal prison not far from Atlanta.  He\\'s been in trouble with the law since he was 14.  He didn\\'t finish high school, had an addiction to hard drugs, and at age 21, his involvement in a string of armed robberies landed him in prison with a 32-year sentence. Right now, you\\'ve probably formed a mental image of who Christopher is, and you might be wondering why I\\'m opening my speech with his story.  When you think about who does mathematics–both who is capable of doing mathematics and who wants to do mathematics–would you think of Christopher? And yet he wrote me a letter after 7 years in prison.  He said:  “I\\'ve always had a proclivity for mathematics, but being in a very early stage of youth and also living in some adverse circumstances, I never came to understand the true meaning and benefit of pursuing an education… over the last 3 years I have purchased and studied a multitude of books to give me a profound and concrete understanding of Algebra I, Algebra II, College Algebra, Geometry, Trigonometry, Calculus I and Calculus II.”  Christopher was writing me for help in furthering his mathematics education. When you think of who does mathematics, do you think of Christopher?  Every being cries out silently to be read differently. Simone Weil is a well-known French religious mystic and a widely revered philosopher.  She is probably less well known as the younger sister of Andre Weil, one of history\\'s most famous number theorists. For Simone Weil, to \\'read\\' someone means to interpret or make a judgment about them.  She\\'s saying: every being cries out silently to be judged differently.  I sometimes wonder if Simone was crying out about herself.  For Simone, too, loved and participated in mathematics, but she was always comparing herself to her brother.  She writes: “At fourteen I fell into one of those fits of bottomless despair that come with adolescence, and I seriously thought of dying because of the mediocrity of my natural faculties… the exceptional gifts of my brother, who had a childhood and youth comparable to those of Pascal, brought my own inferiority home to me. I did not mind having no visible successes, but what did grieve me was the idea of being excluded from that transcendent kingdom to which only the truly great have access and wherein truth abides. I preferred to die rather than live without that truth.” We know Simone loved mathematics because she used mathematical examples in her philosophical writing.  And you\\'ll find her in photos of Bourbaki with her brother. I often wonder what her relationship to mathematics would be like if she weren\\'t always in Andre\\'s shadow. Every being cries out silently to be read differently. As MAA President, you might think that my relationship to mathematics has always been solid.  I don\\'t like the word \\'success\\' but people look at me and think I\\'m successful, as if the true measure of mathematical achievement is the grants I\\'ve received, or the numerous papers I\\'ve published. Like Christopher, I\\'ve had a proclivity for mathematics since youth.  But I grew up in a small rural town in South Texas, with limited opportunities.  Most of my high school peers didn\\'t even attend college.  I did because my dad was a college professor, but my parents didn\\'t know about the many mathematical opportunities I now know exist. My love for math deepened at the University of Texas, and I managed to get admitted to Harvard for my PhD.   But I felt out of place there, since I did not come from an Ivy League school, and unlike my peers, I did not have a full slate of graduate courses when I entered.  I felt like Simone Weil, standing next to future Andre Weils, thinking I would never be able to flourish in mathematics if I were not like them. I was told by one professor that I didn\\'t belong in graduate school.  That forced me to consider, among other things, why I wanted to do mathematics.  And in fact, that is essentially the one big question that I\\'d like for you to consider today: Why do mathematics? This is a simple question, but worth considerable reflection.  Because how you answer will strongly determine who you think should be doing mathematics, and how you will teach it. Why is Christopher sitting in a prison cell studying calculus, even though he won\\'t be using it as a free man for another 25 years?  Why was Simone so captivated by transcendent mathematical truths?  Why should anyone persist in doing math or seeing herself as a mathematical person when others are telling her in subtle and not so subtle ways she doesn\\'t belong? And in this present moment, the world is also asking what its relationship with mathematics should be.   Amidst the great societal shifts wrought by the digital revolution and a shift to an information economy, we are witnessing the rapid transformation of the ways we work and live.  And yet we hear voices in the public sphere saying: “high school students don\\'t need geometry” or “let\\'s leave advanced math for the mathematicians”.  And some mathematicians won\\'t admit it but they signal the exact same thing by refusing to teach lower-level math courses, or viewing the math major as a means to weed out those they don\\'t think are fit for graduate school. Our profession is threatened by voices like these from within, and without, who are undermining how society views mathematics and mathematicians.  And the view of our profession is dismal.  The 2012 report from the President\\'s Council of Advisors on Science and Technology pegs introductory math courses as the major obstacle keeping students from pursuing STEM majors.  We are not educating our students as well as we should, and like most injustices, this hurts those who are most vulnerable. I want us as a mathematical community to move forward in a different way.  It may require us to change our view of who should be doing mathematics, and how we should teach it.  But this way will be no less rigorous and no less demanding of our students.  And yet it will draw more people into mathematics because they will see how mathematics connects to their deepest human desires.  So if you asked me: why do mathematics?  I would say: mathematics helps people flourish.  Mathematics is for human flourishing. The well-lived life is a life of human flourishing.  The ancient Greeks had a word for human flourishing, eudaimonia, which they view as the good composed of all goods.   There is a similar word in Hebrew: shalom, which is used as a greeting.  Shalom is sometimes translated \\'peace\\', but the word has a far richer context.  To say \\'shalom\\' to someone is to wish that they would flourish and live well.  And Arabic has a related word: salaam. A basic question, taken up by Aristotle, is: how do you achieve human flourishing?  What is the well-lived life?  Aristotle would say flourishing comes through the exercise of virtue.  The Greek concept of virtue is “excellence of character that leads to excellence of conduct.”  So it includes more than just moral virtue; for instance, courage and wisdom are also virtues. What I hope to convince you of today is that the practice of mathematics cultivates virtues that help people flourish.  These virtues serve you well no matter what profession you choose.  And the movement towards virtue happens through basic human desires. I want to talk about five desires we all have.  The first of these is play. 1. PLAY  It is a happy talent to know how to play. ― Ralph Waldo Emerson Think of how babies play.  Play is hard to define, but since we\\'re mathematicians, we should at least try.  We can think of a few qualities that characterize it.  For instance, play should be fun and voluntary, or it wouldn\\'t be play.  There is usually some structure: even babies know \\'peekaboo\\' follows a certain pattern, but there is lots of freedom within that structure.  That freedom leads to investigation of some sort, like \\'where will you appear if we play peekaboo one more time?\\'  There is usually no great stake in the outcome.  And the investigation can often lead to some sort of surprise, like appearing in a different place in peekaboo.  Of course, animals play too, but what characterizes human play is the enlarged role of mind and the imagination. Think about Rubik\\'s cube or the game Set.  There\\'s interplay between structure and freedom, and no great stake in the outcome, but there\\'s investigation that can lead to the delight of solving the cube or finding sets of matching cards. Mathematics makes the mind its playground.  We play with patterns, and within the structure of certain axioms, we exercise freedom in exploring their consequences, joyful at any truths we find.  We even have a whole area of mathematics known as \\'recreational mathematics\\'!  Do you know another discipline that has a \\'recreational\\' subfield?  Is there a \\'recreational physics\\' or \\'recreational philosophy\\'? And mathematical play builds virtues that enable us to flourish in every area of our lives.  For instance, math play builds hopefulness: when you sit with a puzzle long enough you are exercising hope that you will eventually solve it.  Math play builds community—when you share in the delight of working on a problem with another human being.  And math play builds perseverance—just as weekly soccer practices build up the muscles that make us stronger for the next game, weekly math investigations make us more fit for the next problem whatever that is, even if we don\\'t solve the current problem.  It\\'s why the MAA supports competition programs like the AMC and Putnam. We help kids flourish through building hopefulness, perseverance, and community.  This year, you may have heard that the US team, that MAA trained, won the International Math Olympiad for the second time in a row.  What you might not have heard is that Po Shen Loh, who coached our team, invited teams from other countries to train with them to prepare for the IMO.  You see, our priority was community over competition.  This was so impressive to the Singaporean prime minister that he publicly thanked Obama for this remarkable collaboration.  This was true play: teams in friendly competition. Play is part of human flourishing.  You cannot flourish without play. And if mathematics is for human flourishing, we should \\'play up\\' the role of play in how we teach and who we teach.  Everyone can play.  Everyone enjoys play.  Everyone can have a meaningful experience in mathematical play. And teaching play is hard work!  It\\'s actually harder than lecturing, because you have to be ready for almost anything to happen in the classroom, but it\\'s also more fun.  Play is part of what makes inquiry-based learning and other forms of active learning so effective.  There\\'s overwhelming evidence that students learn better with active learning.  This year, in the Conference Board of the Mathematical Sciences, I signed a statement with presidents of other math organizations endorsing active learning (and you can find this on the CBMS website).  And if you want to see the evidence for active learning, we\\'ve included some background information in this statement. So: teach play. Another basic human desire is: 2. BEAUTY It is impossible to be a mathematician without being a poet in soul.    —Sofia Kovalevskaya Who among us does not enjoy beautiful things?  A beautiful sunset.  A sublime sonata.  A profound poem.  An elegant proof.  Mathematicians and scientists are awed by the simplicity, regularity, and order of the laws of the universe.  These are called “beautiful”.  They feel transcendent.  Why should mathematics be as powerful as it is?  This is what Nobel prizewinning physicist Eugene Wigner called “the unreasonable effectiveness of mathematics” to explain the natural sciences.  And Einstein asked: “How can it be that mathematics, being after all a product of human thought independent of experience, is so admirably adapted to the objects of reality?” And mathematicians are not satisfied with just any proof of a theorem.  We often look for the best proofs, the simplest or most pleasing.  Mathematicians have a special word for this: we say a proof is “elegant”.  Paul Erdös often spoke of “The Book” that God keeps, in which all the most elegant proofs of theorems are kept.    Pursuing mathematics in this way cultivates the virtues of transcendence and joy.  By joy, I refer to the wonder or awe or delight in the beauty of the created order.  By transcendence, I mean the ability to embrace mystery of it all.  There\\'s a transcendent joy in experiencing the beauty of mathematics. If mathematics is for human flourishing, we must help others see its beauty.  But there are many notions of beauty.  So the way you motivate mathematics through beauty must necessarily be diverse—through art, through music, through patterns, through rigorous arguments, through the elegance of simple but profound ideas, through the wondrous applicability of these ideas to the real world in many different fields. A third basic human desire is: 3. TRUTH Quid est veritas?  (What is truth?)    —Pontius Pilate What is truth?  This question is an important one, especially today.  Each day seems to bring more discussion about how fake news may have influenced the presidential election.  Some dismiss trying to figure out what\\'s true, saying \\'How can we even know what is true?\\' And yet, in some contexts, people seek truth at all costs.  Especially when there is a lot at stake.  When my dad had cancer, we wanted to know what treatments had the best chance of saving his life.  We had to know, because his life depended on it. The quest for truth is at the heart of the scientific enterprise.  I say \\'quest\\' because we don\\'t do science to confirm simple declarative statements that are easily verified, like: “my coffee is hot”.  Rather, our subject of investigation are questions for which the answer is not so clear.  “Do gravity waves exist, and if so how would we detect them?” So there is a quest.  We formulate a hypothesis (“they exist”) and we design experiments to test our hypotheses.  We look for evidence, and if we find some, we still ask: could there have been any other explanation?    A mathematician might try to prove or disprove a statement through logical deductions from first principles.  Or she might construct a mathematical model to answer the question.  These approaches cultivate in us the virtue of rigorous thinking: the ability to handle ideas well, and craft clear arguments with those ideas.  This virtue serves us well in every area of life.  We should use this ability to reason in the public square, as many in our community have done by writing op-ed pieces for newspapers. I would love to see more of us exercise this virtue, to shape public perceptions about mathematics. (And, on a side note, if you want to see how math is being portrayed in the news, I have built a \\'math news aggregator\\' called MathFeed, which is available for iPhone and iPad, and in a few weeks, Android.  It links to major newspapers, as well as math blogs and publications of MAA, AMS, SIAM, ASA and other organizations.) I would like to encourage institutions to start valuing the public writing of its faculty.  More people will read these pieces than will ever read any of our research papers.  Public writing is scholarly activity: it involves rigorous arguments, is subject to review process by editors, and to borrow the NSF phrase, it has broader impacts, and that impact can be measured in the digital age. And, the quest for truth predisposes the heart to the virtue of humility. Isaac Newton said: “I do not know what I may appear to the world, but to myself I seem to have been only like a boy playing on the seashore, and diverting myself in now and then finding a smoother pebble or a prettier shell than ordinary, whilst the great ocean of truth lay all undiscovered before me.” He\\'s saying: the more we know, the more we realize how much we do not yet know.  And we learn how to accept being wrong, if a counterexample shows our conjecture was false.  In fact, I\\'ll go so far to say that counterexamples in mathematics have a special place— we celebrate them.  We have titles of books like \\'Counterexamples in Topology\\' or \\'Counterexamples in Analysis\\'.   We like to admit when we are wrong! So when a student embraces this quest for truth, she begins to assume a certain kind of humility.  She handles ideas rigorously, with honesty and integrity.  She values truthfulness and clarification of distinctions.  This is the virtue of intellectual humility, and it is prized.   I think a lack of humility characterized the political discourse of 2016 on both sides.  I wish we had more intellectual humility in the public square. We must model the virtue of humility in our own teaching, and we should explicitly tell our students we are cultivating humility as a virtue that will serve them well their entire life.  One of the most important skills we can teach our students is to know when their arguments are wrong.  How many of you have ever given a super-hard question on an exam, and gotten answers that look like students just made stuff up, hoping for extra credit?  I now explicitly say on my exams: that I will give extra credit on incomplete proofs where students acknowledge their gaps.  I get much more thoughtful answers that way. And mathematics builds the virtue of circumspection.  We know the limits of our arguments and we don\\'t overgeneralize.   I like what my friend Rachel Schwell said: “I think math helps me make fewer sweeping generalizations about people. For example, I wouldn\\'t assume a person is say, uneducated, just because she is, say, poor, just as I can\\'t assume a number is say, positive, because it is an integer.  I can\\'t even assume it is positive if I know it\\'s nonnegative, even if, probability-wise, it probably is positive!  So I don\\'t leap to automatic associations as much.” Can we help our students see that the virtue of circumspection is important in life? A fourth basic human desire is: 4. JUSTICE Justice. To be ever ready to admit that another person is something quite different from what we read when he is there (or when we think about him). Or rather, to read in him that he is certainly something different, perhaps something completely different from what we read in him.  Every being cries out silently to be read differently.    ―Simone Weil Akemi was a student of mine who did research with me as an undergraduate.  Her innovative paper linking game theory and phylogenetics was published in a highly regarded mathematical biology journal.  She went to a top research university for her PhD.  So I was surprised when I learned that Akemi quit after one year.  She told me she had many negative experiences.  Her advisor was never willing to meet with her, and she had faced uncomfortable experiences as a woman.  She told me one example: “At the beginning of the course, I consistently got 10/10 on my homework assignments which were all graded by the TA.  One day, Jeff [a mutual friend] told me that he was hanging out with our TA and someone asked the TA how the analysis class was doing.  He went on and on about some “guy” named Akemi and how perfect “his” homeworks were and how clearly they were written, etc.  Jeff told him I was a girl and the TA was shocked.  (Jeff told me this story because he thought it was funny that someone both didn\\'t know my sex from my name and reacted so dramatically to finding out.)  After that, I never got remotely close to 10/10 on my assignments and my exams were equally harsh—most of the reasons for docked points were vague with comments like \\'give more detail\\'. I didn\\'t feel like my understanding of the material diminished that quickly or dramatically, but I suppose it\\'s possible that happened and I\\'m just misinterpreting the situation…” No, Akemi, it\\'s not you. I hope you all agree something is not right with this picture.  If a certain kind of anger wells up in you, you are experiencing a telltale sign of flourishing: the desire for justice.  Justice means: setting things right.  And justice is a powerful motivator to action.  Justice is required for human flourishing.  We flourish—we experience shalom—when we treat others justly and when we are treated justly. As the quote above reveals, Simone Weil realized that correcting injustice must involve changing how we view others.  She defines: “Justice. To be ever ready to admit that another person is something quite different from what we read when he is there (or when we think about him). Or rather, to read in him that he is certainly something different, perhaps something completely different from what we read in him.  Every being cries out silently to be read differently.” Now before we are too quick to censure Akemi\\'s TA, we have to realize the problem of reading others differently begins with ourselves.  The TA may not have even realized he was doing this.  This is the problem of implicit bias: unconscious stereotypes that subtly affect our decisions.  One of the best experiences I had in MAA leadership was attending a workshop on implicit bias, in which I realized in a powerful way how I am biased even though I try not to be.  We all do it without realizing it.  Numerous experiments confirm results of the following kind: when given two nearly identical resumes except that one has a positively stereotyped name and one has a negatively stereotyped name (women, minority, etc), judges will rate the positively stereotyped resume higher.  This happens even if judges come from the negatively stereotyped group. This is why good practices are important.  The MAA now has a document for selection committees called \\'Avoiding Implicit Bias\\' that lists a number of practices that have been shown in research to mitigate the effects of implicit bias, such as taking time to make decisions, or generating a large candidate pool.  These are good practices, even if you don\\'t believe bias exists.  That document is now distributed with every MAA committee assignment. You see, we have to recognize that even if people are just, even if they desire to be just, a society may not be just if its structures and practices are not also just.  And the only way a whole society can flourish, is if the society is a just society.  It is often said that the mark of a just society is how it treats its most vulnerable members. So I ask, with great humility: are we a just community? If you believe that mathematics is for human flourishing, and we teach mathematics to help them flourish, you will see, if you look around the room, that we aren\\'t helping all our students flourish.  The demographics of the mathematical community does not look like the demographics of America.  We have left whole segments out of the benefits of the flourishing available in our profession. So we have to talk about race and that\\'s hard.  It can bring up complicated emotions, even more so with all that has taken place in our nation in the past year.  In our community, we have to become more comfortable talking about it, listening to each others\\' experiences, and being willing to recognize its there.  If you want to treat others with dignity and they are hurting, you don\\'t ignore their pain.  You ask “What are you going through?” It\\'s not enough to say “I don\\'t think about race.”  Because in a community, how one member is doing affects the whole.  And for those of us not in the dominant racial group, we don\\'t have the luxury of saying “I don\\'t think about race” because racial issues affect us on a daily basis.  So let me encourage all of us to try having these conversations, to be quick to listen, slow to speak, and quick to forgive each other when we say something stupid.  That\\'ll happen if you start to have conversations, and we just have to have grace for each other if we make mistakes—it\\'s better than not talking.  So if we\\'re going to have conversation, I\\'ll start.  I grew up in Texas in a white and Latino part of the state, and I realized early on that my family had different customs from my friends—my clothes were different, the food in my lunchbox was different—and these things were causing me to not fit in.  I wanted to be white.  Not Latino, because white people got more respect, and as an Asian I was getting picked on all the time.  I had no role models for being Asian-American.  So I tried hard to act white, even if I couldn\\'t look white.  On the other hand, in Chinese communities, I also don\\'t fit in.  I don\\'t speak Chinese.  I don\\'t act Chinese.  At Chinese restaurants, I\\'m viewed as white.  Did you know at authentic Chinese restaurants, there is often a special menu, a secret menu, that they only give Chinese people?  It has all the good stuff.  I don\\'t get that menu, unless I ask for it.  In fact they discourage me: saying \\'you won\\'t like the stuff on that menu\\'.  As mathematicians, who gets to see our secret menu?  Whom do we shepherd towards taking more math courses?  Whom do we discourage from looking at that menu? Don\\'t let me sound as if I\\'m complaining about my race.  There are ways in which I benefited from being Asian.  People expected me to do better at math and science, and I\\'m sure that\\'s part of why I did.  Because I now know there is a recognized literature on \\'expectancy effects\\', that teacher expectations do affect student performance. The first time I didn\\'t feel like a minority was when I moved to California.  There are so many Asian-Americans there.  In Texas, I would commonly get the question “Your English is so good!  Where are you from?”  “Texas.”  “No, where are you really from?”  That never happens in California and there\\'s a feeling of freedom I have in not having to counter these verbal stings. These days, I\\'m used to being at math conferences and seeing a sea of white faces.  So even I was a little bit surprised, that when I was elected MAA President, a prominent blogger on race issues for Asian Americans wrote a blog post about it.  His name is Angry Asian Man.  He looked at the photos of past MAA Presidents on our website, and given how many Asians he expected to be in math, he noted they were all white except for me, and wrote a sarcastic post entitled: “Finally! An Asian guy who\\'s good at math!” I am the first president of color of either AMS or MAA.  Minorities, including Asians, are easy to overlook when you think about who would make a good leader.  This may not be intentional, but when you are asked to think about who is fit for this or that role, you often think of people just like the people who have been in office.  So it is easy for implicit bias to creep in. I raise this discussion out of deep affection for the mathematical community.  I want us to flourish, and there are ways in which we can do better. In 2015, I had the great pleasure of running MSRI-UP, a summer research program for students from underrepresented backgrounds: first-generation college students, Latino and African American kids.   I asked them to help me prepare this talk, to tell me about obstacles they\\'ve faced doing mathematics. One of them, who did wonderful work that summer, told me about her experience in an analysis course after she got back.  She said “…even though the class was really hard, it was more difficult to receive the humiliations of the professor. He made us feel that we were not good enough to study math and he even told us to change to another \\'easier\\' profession.”  As a result of this and other experiences, she switched her major to engineering. Let me be clear: there is no good reason to tell a student she doesn\\'t belong in math.  That\\'s the student\\'s decision.  Not yours.  You see the snapshot of her progress, but you don\\'t see her trajectory.  You can\\'t know how she will grow and flourish in the future.  But you can help her get there. Of course, you should give forthright counsel to students about skills they might need to develop further if they want to go on in mathematics, but if you see mathematics as a means to help them flourish, why wouldn\\'t you encourage them to take more math? Another student that summer, Oscar, told me about his experience as a math major who, unlike his peers and because of his background, did not enter college with any advance placement credit.  He says:   “I noticed how different my trajectory was, however, while I was in my Complex Analysis course. A student was presenting a solution on the board which required a bit of a complicated derivation halfway through. They skipped over a number of steps, citing \\'I don\\'t think I need to go through the algebra…we all tested out of Calculus here anyway!\\' with my professor nodding in agreement and some students laughing. I quietly commented that Calculus was my first course here. My professor was genuinely surprised and said \\'Wow, I did not know that! That\\'s interesting.\\' I was not sure whether to feel proud or embarrassed by the fact that I was not the \\'typical math student\\' that was successful from the beginning of their mathematical career. I felt a sense of pride in knowing that I was pursuing a math degree despite my starting point, but I could not help but feel as though I did not belong in that classroom to begin with.” The reason Oscar was in that class to begin with was because of the active support of another professor.  Says Oscar: “She presented me with my first research opportunity and always encouraged me to study higher math. I was also able to confide in her about a lot of the internal struggles I had with being a minority in mathematics since, as a female, she had a similar experience herself! My complex analysis professor became one of my mentors as well. I think it was just an interesting moment because she didn\\'t realize how her reaction to the situation could have hurt me (and I don\\'t think she\\'s necessarily at fault!). It was more that her reaction piled onto the insecurities I held in regards to being a minority with a weak background in math.” (Note that Oscar didn\\'t have a \\'weak\\' background—he had a standard background.) I\\'m pleased to say that Oscar and his team from that summer just published a paper in an AMS journal, and he is now in graduate school. You hear from Oscar\\'s story the importance of having an advocate, a faculty member who says “I see you, and I think you have a future in math.”  This can be especially important for underrepresented groups and women who already have so many voices telling them they can\\'t.  Can you be that advocate? And if we teach mathematics to help our students flourish, then we should not set up structures that disadvantage smart students with weaker backgrounds, or make them feel \\'out of place\\'.  I know that can happen inadvertently among students, but we, as faculty, are the shepherds of our departmental culture.  When I was a grad student at Harvard, they had a regular calculus class, an honors calculus class called Math 25, and on top of that, for those with very strong backgrounds, a super honors class called Math 55.  Ironically, I regularly encountered students in the honors track who felt they didn\\'t belong in math, because they hadn\\'t placed into the super honors track.  I had to keep reassuring them “background is not the same as ability.”  I sometimes wish graduate school admissions would remember this too: “background is not the same as ability”.  As my friend Bill Velez says: if you want your PhD program to have more students of color, then you have to stop admitting students on the basis of background, and start admitting students by their ability.  And then, support them.  Be an advocate!  They have so many voices telling them, they don\\'t belong. I know our community wants to be just.  To set things right.  If you were at the Hidden Figures panel Thursday, you saw the turnout.  There were so many people we had to open a second room and even then, it was standing room only.   So I know our community wants to do better. So if you are looking to start some conversations with your students or colleagues, but don\\'t know where to start, sometimes it can help to have a third party.  I\\'m willing to be that third party.  I\\'ve written a number of articles on these topics for MAA FOCUS and they are all posted on my webpage.  You could ask your students to read them and then have a discussion.  I can assure you it will be time well spent.  Because we are not mathematical machines.  We live, we breathe, we feel, we bleed.  If your students are struggling, and you don\\'t acknowledge it, their education becomes disconnected and irrelevant.  Why should anyone care about mathematics if it doesn\\'t connect deeply to some human desire: to play, seek truth, pursue beauty, fight for justice?  You can be that connection.  So let me challenge each one of you today.  Find one student whom you know is facing some challenges, and become their long-term advocate.  One way to do that is to sign up to be a mentor with the Math Alliance.  The goal of this program, directed by Phil Kutzko, is to ensure that every underrepresented or underserved American student with the talent and the ambition has the opportunity to earn a doctoral degree in a mathematical science. Find one student and be their advocate!  Be the one who says “I see you, and I think you have a future in math.”  Be the one who searches out opportunities for them.  Be the one who pulls them towards virtue.  Be the one who calls them up when they\\'ve skipped class, and asks “is everything okay? what are you going through?” I know what I\\'m asking you to do is hard and takes time.  But we\\'re mathematicians… we know how to tackle hard problems.  We have the perseverance to see it through.  We have the humility to admit when we make mistakes, and learn from them.  We have hopefulness that our labor is never in vain and that our work will bear fruit in the flourishing of our students. Because what I am asking you to do is something you already know, at the heart of the teacher-student relationship, pulls us towards virtue.  I\\'m asking you to love. 5. LOVE If I speak in the tongues of men and of angels, but have not love, I am a noisy gong or a clanging cymbal.  ― Paul the Apostle Love is the greatest human desire.  And to love and be loved is a supreme mark of human flourishing.  For it serves the other desires—play, truth, beauty, and justice—and it is served by them. Every being cries out silently to be read differently.  Every being cries out silently to be loved.  Christopher, in prison, wasn\\'t looking only for mathematical advice.  He was looking for connection, someone to reach out to him in his mathematical space and say “I see you, and I share the same transcendent passion for math that you do, and you belong here.” When I was in the depths of despair in graduate school, struggling over many non-academic things with a professor who had said I don\\'t belong, already interviewing for jobs because I was sure I was going to quit, one professor reached out to me, became my advocate.  And he said, “I would rather see you work with me, than quit.”  So I stand before you now to ask you: find a struggling student, love them, be their advocate! I\\'ll close with this reflection by Simone Weil, as I think it gathers all the strands of my talk.  After wrestling with her own insecurity in mathematics, she saw that there was a path to virtue through her struggle and that her struggle could help others.  She wrote this: “The love of our neighbour in all its fullness simply means being able to say to him: \\'What are you going through?\\' It is a recognition that the sufferer exists, not only as a unit in a collection, or a specimen from the social category labelled \\'unfortunate\\', but as a man, exactly like us, who was one day stamped with a special mark by affliction. For this reason it is enough, but it is indispensable, to know how to look at him in a certain way. “This way of looking is first of all attentive. The soul empties itself of all its own contents in order to receive into itself the being it is looking at, just as he is, in all his truth. Only he who is capable of attention can do this. “So it comes about that, paradoxical as it may seem, a Latin prose or a geometry problem, even though they are done wrong, may be of great service one day, provided we devote the right kind of effort to them. “Should the occasion arise, they can one day make us better able to give someone in affliction exactly the help required to save him, at the supreme moment of his need. “For an adolescent, capable of grasping this truth and generous enough to desire this fruit above all others, studies could have their fullest spiritual effect, quite apart from any particular religious belief.  “Academic work is one of those fields which contain a pearl so precious that it is worthwhile to sell all our possessions, keeping nothing for ourselves, in order to be able to acquire it.” She had found a path through struggle to virtue. She understood that mathematics is for human flourishing. The mathematical experience cannot be separated from love! The love between friends who play with a mathematical problem. The love between teacher and student working to help each other flourish. The love of a community like the Mathematical Association of America working with each other towards a common goal: through the knowledge and virtues wrought by mathematics, to help everyone flourish. Thank you for the opportunity to serve you these last two years.  Shalom and salaam, my friends.  Grace and peace to you.  May you and all your students flourish.'"
   ]
  },
  {
   "cell_type": "markdown",
   "metadata": {},
   "source": [
    "## Exercise 1\n",
    "\n",
    "Write a function called `count_letters()` that counts the number of times each character appears in a user-supplied string `s`. Your function should loop over each element of the string, and sequentually update a `dict` whose keys are characters and whose values are the number of occurrences seen so far. You may know of other ways to achieve the same result. However, you should use the loop approach, since this will generalize to the next exercise. \n",
    "\n",
    "*Note: while the construct `for letter in s:` will work for this exercise, it will not generalize to the next one. Use `for i in range(len(s)):` instead.* \n",
    "\n",
    "### Example usage: \n",
    "\n",
    "```python\n",
    "count_letters(\"tortoise\")\n",
    "{'t' : 2, 'o' : 2, 'r' : 1, 'i' : 1, 's' : 1, 'e' : 1}\n",
    "```\n",
    "\n",
    "*Hint*: Yes, you did a problem very similar to this one on HW1. \n",
    "\n",
    "\n",
    "### Your Solution"
   ]
  },
  {
   "cell_type": "code",
   "execution_count": 3,
   "metadata": {},
   "outputs": [
    {
     "data": {
      "text/plain": [
       "{'t': 2, 'o': 2, 'r': 1, 'i': 1, 's': 1, 'e': 1}"
      ]
     },
     "execution_count": 3,
     "metadata": {},
     "output_type": "execute_result"
    }
   ],
   "source": [
    "def count_letters(s):\n",
    "    '''\n",
    "    Count how many occurences of each letter a specified string has and summarize results in a dictionary. \n",
    "    '''\n",
    "    d = {}        # Initialize an empty dictionary.\n",
    "    for i in range(len(s)):   \n",
    "        if s[i] in d:         # For each iteration check to see if that letter already exists in the dictionary. \n",
    "            d[s[i]] += 1      # If so add one to the count.\n",
    "        else:\n",
    "            d[s[i]] = 1       # Otherwise if the string does not already have that letter, set the count to 1. \n",
    "    return d\n",
    "\n",
    "count_letters(\"tortoise\")"
   ]
  },
  {
   "cell_type": "markdown",
   "metadata": {},
   "source": [
    "## Exercise 2\n",
    "\n",
    "An $n$-*gram* is a sequence of $n$ letters. For example, `bol` and `old` are the two 3-grams that occur in the string `bold`. \n",
    "\n",
    "Write a function called `count_ngrams()` that counts the number of times each $n$-gram occurs in a string, with `n` specified by the user and with default value `n = 1`. You should be able to do this by making only a small modification to `count_characters()`. \n",
    "\n",
    "### Example usage: \n",
    "\n",
    "```python\n",
    "count_ngrams(\"tortoise\", n = 2)\n",
    "{'to': 2, 'or': 1, 'rt': 1, 'oi': 1, 'is': 1, 'se': 1}\n",
    "```\n",
    "\n",
    "### Your Solution"
   ]
  },
  {
   "cell_type": "code",
   "execution_count": 4,
   "metadata": {
    "scrolled": true
   },
   "outputs": [
    {
     "data": {
      "text/plain": [
       "{'to': 2, 'or': 1, 'rt': 1, 'oi': 1, 'is': 1, 'se': 1}"
      ]
     },
     "execution_count": 4,
     "metadata": {},
     "output_type": "execute_result"
    }
   ],
   "source": [
    "def count_ngrams(s, n = 1):\n",
    "    '''\n",
    "    Count how many n-grams, a sequence of n user-specified letters, occurs in a string\n",
    "    and summarize results in a dictionary.\n",
    "    '''\n",
    "    d = {}      # Initialize an empty dictionary.\n",
    "    for i in range(len(s)):\n",
    "        if len(s[i:i+n]) == n: # First check to see if the ngram has the correct number of elements.\n",
    "            if s[i:i+n] in d:  # For each iteration check to see if the ngram from i up to and not inluding i + n is already in the dictionary.\n",
    "                d[s[i:i+n]] += 1  # If so add one to the count.\n",
    "            else:\n",
    "                d[s[i:i+n]] = 1   # If the ngram appears for the first time in the dictionary, set the count to 1.\n",
    "        else:                   \n",
    "            break             # If the ngram has less than the specified number of elements the loop breaks.\n",
    "    return d\n",
    "\n",
    "count_ngrams(\"tortoise\", n = 2)"
   ]
  },
  {
   "cell_type": "markdown",
   "metadata": {},
   "source": [
    "## Exercise 3\n",
    "\n",
    "Now we are going to use our $n$-grams to generate some fake text according to a Markov model. Here's how the Markov model of order $n$ works: \n",
    "\n",
    "### A. Compute (n+1)-gram occurrence frequencies\n",
    "\n",
    "You have already done this in Exercise 2!  \n",
    "\n",
    "### B. Pick a starting (n+1)-gram\n",
    "\n",
    "The starting (n+1)-gram can be selected at random, or the user can specify it. \n",
    "\n",
    "### C. Generate Text\n",
    "\n",
    "Now we generate text one character at a time. To do so:\n",
    "\n",
    "1. Look at the most recent $n$ characters in our generated text. Say that $n = 3$ and the 3 most recent character are `the`. \n",
    "2. We then look at our list of $n+1$-grams, and focus on grams whose first $n$ characters match. Examples matching `the` include `them`, `the `, `thei`, and so on. \n",
    "3. We pick a random one of these $n+1$-grams, weighted according to its number of occurrences. \n",
    "4. The final character of this new $n+1$ gram is our next letter. \n",
    "\n",
    "For example, if there are 3 occurrences of `them`, 4 occurrences of `the `, and 1 occurrences of `thei` in the n-gram dictionary, then our next character is `m` with probabiliy 3/8, `[space]` with probability 1/2, and `i` with probability `1/8`. \n",
    "\n",
    "## What you should do\n",
    "\n",
    "Write a function that generates synthetic text according to an n-th order Markov model. It should take as input a corpus, and an integer specifying the desired length of the fake string. It should also take a seed string `s`, which may be assumed to be at least as long as n.  \n",
    "\n",
    "A good function for performing the random choice is the `choices()` function in the `random` module. You can use it like this: "
   ]
  },
  {
   "cell_type": "code",
   "execution_count": 38,
   "metadata": {},
   "outputs": [
    {
     "data": {
      "text/plain": [
       "['Three']"
      ]
     },
     "execution_count": 38,
     "metadata": {},
     "output_type": "execute_result"
    }
   ],
   "source": [
    "import random\n",
    "\n",
    "options = [\"One\", \"Two\", \"Three\"]\n",
    "weights = [1, 2, 3] # \"Two\" is twice as likely as \"One\", \"Three\" three times as likely. \n",
    "\n",
    "random.choices(options, weights) "
   ]
  },
  {
   "cell_type": "markdown",
   "metadata": {},
   "source": [
    "The first and second arguments must be lists of equal length. Note also that the return value is a list -- if you want the value *in* the list, you need to get it out via indexing.  \n",
    "\n",
    "*Hint: The first thing your function should do is call `count_ngrams` above to generate the required dictionary. Then, should handle the logic described above in the main loop.*\n",
    "\n",
    "### Your Solution"
   ]
  },
  {
   "cell_type": "code",
   "execution_count": 27,
   "metadata": {
    "scrolled": false
   },
   "outputs": [
    {
     "data": {
      "text/plain": [
       "\"Mathematics, do you think about him). Or rather, to read in him.  Every being cries out silently to be read differently.  Every being cries out silently to be read different fields. A third basic human desire is: 3. TRUTH Quid est veritas?  (What is truth?)    —Pontius Pilate What is truth?  This question on an exam, and gotten answers that look like students with weaker backgrounds, or make them feel 'out of place there, since I did not belong in math, he noted they were all graded by the simpl\""
      ]
     },
     "execution_count": 27,
     "metadata": {},
     "output_type": "execute_result"
    }
   ],
   "source": [
    "def markov_text(s, seed, n, length):\n",
    "    \"\"\"\n",
    "    Generate fake text from a user-specified string by picking random n+1 grams from a string and adding the last \n",
    "    letter of the n+1 gram based on it's frequency in the string.\n",
    "    \"\"\"\n",
    "    \n",
    "    if n > len(seed):                        # Print error if n is greater than the length of the seed\n",
    "        raise TypeError(\"n cannot be greater than the length of the seed\")\n",
    "    \n",
    "    import random\n",
    "    \n",
    "    ngram_dict = count_ngrams(s, n + 1)      # Dictionary containing all n+1 grams\n",
    "    list_of_keys = list(ngram_dict.keys())   # List of all n+1 grams dictionary keys\n",
    "\n",
    "    txt = seed                                 #Initialize fake text with seed\n",
    "    \n",
    "    \n",
    "    for i in range(length-len(seed)):    # Since we want the string to be as long as the specified length we must account for the original character length of the seed              \n",
    "        options = []            # Empty list that will be filled with n+1 grams that match the recent n characters\n",
    "        for key in range(len(list_of_keys)):     # Iterate over all n+1 gram keys to search for matches\n",
    "            if list_of_keys[key][:n] == txt[-n:]:  # Most recent n characters match the first n characters of an n+1 gram\n",
    "                options.append(list_of_keys[key])       # If a match is found append it to the options list\n",
    "        \n",
    "        counter = 0         \n",
    "        for option in range(len(options)):  # Count the frequency of each option in the options list from the dictionary\n",
    "            counter += ngram_dict[options[option]]       # Counter will equal total number of occurences of all options \n",
    "    \n",
    "    \n",
    "        weights = []\n",
    "        for option in range(len(options)):           # Iterate over the number of elements in the options list\n",
    "            weights.append(ngram_dict[options[option]] / counter) # Fequency divided by total occurences equals wieght\n",
    "          \n",
    "        ngram = random.choices(options,weights) # ngram is a list with one element of a random n+1 gram from which the last character will be extracted\n",
    "    \n",
    "        txt += ngram[0][-1:]          # Concatenate the string with the last character of the element in the ngram list\n",
    "         \n",
    "    return txt        \n",
    "                \n",
    "            \n",
    "markov_text(corpus, \"Mathematics\",  n = 10, length = 500)            \n",
    "        \n",
    "        "
   ]
  },
  {
   "cell_type": "markdown",
   "metadata": {},
   "source": [
    "Here's an example of using this function: "
   ]
  },
  {
   "cell_type": "code",
   "execution_count": 18,
   "metadata": {},
   "outputs": [
    {
     "data": {
      "text/plain": [
       "\"Mathematics'!  Do you know at authentic Chinese restaurants, there is lots of freedom I have in not having to counter these verbal stings. These days, I'm used to being at math conferences and seeing a sea of white faces.  So even I was a grad student with the law since he was 14.  He didn't finish high school peers didn't even attend college.  I did because of his backgrounds: first-generation college students we are cultivating humility in the public writing is scholarly activity: it involves rigorous an\""
      ]
     },
     "execution_count": 18,
     "metadata": {},
     "output_type": "execute_result"
    }
   ],
   "source": [
    "markov_text(corpus, \"Mathematics\", n = 10, length = 500)"
   ]
  },
  {
   "cell_type": "markdown",
   "metadata": {},
   "source": [
    "## Exercise 4\n",
    "\n",
    "Try out your function for varying values of n. Write down a few observations. How does the generated text depend on n? How does the time required to generate the text depend on n? How do you explain your observations?"
   ]
  },
  {
   "cell_type": "code",
   "execution_count": 24,
   "metadata": {},
   "outputs": [
    {
     "data": {
      "text/plain": [
       "\"Mathematics frof [a wor Pures imand uppeot the TA.  But On en tractiond “Thinfor, theing.   In wit al ar' If yous pos humes.  I muning: “Why haver 7 your ant mated ther Texam a hater we is thin placteat hell shis as top th?”  He inks foreand thein don. MAA the the fake whe for sue, buthe thif res us fulartaked 'givir en fam facerfulne mated thers.  I whan't floof themathine elould grobst ofelp imor st in beillis I, Greard of humber pee thrincessishing I hathatheive, whatics. Evesn't of com' to k\""
      ]
     },
     "execution_count": 24,
     "metadata": {},
     "output_type": "execute_result"
    }
   ],
   "source": [
    "markov_text(corpus, \"Mathematics\", n = 2, length = 500) "
   ]
  },
  {
   "cell_type": "code",
   "execution_count": 25,
   "metadata": {},
   "outputs": [
    {
     "data": {
      "text/plain": [
       "\"Mathematics is fit for this an AMS or MAA now exist”) and seeing after that we word for truths?  What is a regularity, regularity, we have a different from?”  “Texas in the most of pursue beauty of my brother community. Isaac Newton said I don't look at him). Or rather, among other disprove of backgrounds: first of doing.  And mathematicians… we know.  And just, a process by the others didn't assuring of the could flourish. The mathematics wouldn't even if people will ready to admirably less I a\""
      ]
     },
     "execution_count": 25,
     "metadata": {},
     "output_type": "execute_result"
    }
   ],
   "source": [
    "markov_text(corpus, \"Mathematics\", n = 5, length = 500)  "
   ]
  },
  {
   "cell_type": "code",
   "execution_count": 26,
   "metadata": {},
   "outputs": [
    {
     "data": {
      "text/plain": [
       "\"Mathematics since youth.  But I grew up in a small rural town in South Texas, with limited opportunity to serve you well no matter what profession is dismal.  The 2012 report from the President's Council of Advisors on Science and Technology pegs introductory math courses, or viewing the math major who, unlike his peers and because of his backgrounds, or make them feel 'out of place'.  I know that can happen inadvertently among students flourish, then we should explicitly tell our students flour\""
      ]
     },
     "execution_count": 26,
     "metadata": {},
     "output_type": "execute_result"
    }
   ],
   "source": [
    "markov_text(corpus, \"Mathematics\", n = 11, length = 500)  "
   ]
  },
  {
   "cell_type": "markdown",
   "metadata": {},
   "source": [
    "It appears that for different values of n the generated text creates different words becase for a specified n the n+1 gram dictionary contains different combinations of words that the function can extract from to output new chracters. For shorter n's the text appears to generate random strings of words rather than real words because there are more random combinations of n+1 grams for smaller n's. The time requred to generate the text also appears to differ based on n: for shorter n's the text is created faster, while for longer n's the text is created slower. This may be because for longer n's there are not as many matches from the n+1 dictionary from which the function can find n+1 grams so it takes longer for the function to find and output a result."
   ]
  }
 ],
 "metadata": {
  "kernelspec": {
   "display_name": "Python 3",
   "language": "python",
   "name": "python3"
  },
  "language_info": {
   "codemirror_mode": {
    "name": "ipython",
    "version": 3
   },
   "file_extension": ".py",
   "mimetype": "text/x-python",
   "name": "python",
   "nbconvert_exporter": "python",
   "pygments_lexer": "ipython3",
   "version": "3.8.3"
  }
 },
 "nbformat": 4,
 "nbformat_minor": 4
}
