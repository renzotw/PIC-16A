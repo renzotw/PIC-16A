{
 "cells": [
  {
   "cell_type": "markdown",
   "metadata": {},
   "source": [
    "- By Renzo Tanaka-Wong\n",
    "- December 8th, 2020\n",
    "\n",
    "I aﬀirm that I personally wrote the text, code, and comments in this homework assignment."
   ]
  },
  {
   "cell_type": "markdown",
   "metadata": {},
   "source": [
    "# Homework 8\n",
    "\n",
    "# Problem 0\n",
    "\n",
    "This week is the right time for you to be working together with your group to assemble your final project submission. You should have many of the required pieces by now, so your main tasks are to coordinate and agree on how to arrange and present the various required components. There will be no more project time during Discussion sections. \n",
    "\n",
    "# Problem 1\n",
    "\n",
    "Recall the simple random walk.  At each step, we flip a fair coin. If heads, we move \"foward\" one unit; if tails, we move \"backward.\" \n",
    "\n",
    "## Part A\n",
    "\n",
    "Way back in Homework 1, you wrote some code to simulate a random walk in Python. \n",
    "\n",
    "Start with this code, or use posted solutions for HW1. If you have since written random walk code that you prefer, you can use this instead. Regardless, take your code, modify it, and enclose it in a function `rw()`. This function should accept a single argument `n`, the length of the walk. The output should be a list giving the position of the random walker, starting with the position after the first step. For example, \n",
    "\n",
    "```python\n",
    "rw(5)\n",
    "[1, 2, 3, 2, 3]\n",
    "```\n",
    "\n",
    "Unlike in the HW1 problem, you should not use upper or lower bounds. The walk should always run for as long as the user-specified number of steps `n`. \n",
    "\n",
    "Use your function to print out the positions of a random walk of length `n = 10`. \n",
    "\n",
    "Don't forget a helpful docstring! "
   ]
  },
  {
   "cell_type": "code",
   "execution_count": 1,
   "metadata": {},
   "outputs": [
    {
     "data": {
      "text/plain": [
       "[-1, -2, -1, 0, 1, 0, 1, 0, -1, -2]"
      ]
     },
     "execution_count": 1,
     "metadata": {},
     "output_type": "execute_result"
    }
   ],
   "source": [
    "# Import random\n",
    "import random\n",
    "\n",
    "def rw(n):\n",
    "    \"\"\"\n",
    "    This function returns a list of positions\n",
    "    of a random walk simulation specified for:\n",
    "    n = length of walk\n",
    "    \"\"\"\n",
    "    # List to fill with positions of each step of random walk\n",
    "    # Starting position is 0\n",
    "    positions = []\n",
    "    p = 0\n",
    "    \n",
    "    # Iterate over specified length of walk\n",
    "    for i in range(n):\n",
    "        # Randomly compute 1 or -1, adjust position, and append to list\n",
    "        x = random.choice([-1, 1])\n",
    "        p += x\n",
    "        positions.append(p)\n",
    "        \n",
    "    return positions\n",
    "\n",
    "# n = 10 demonstration \n",
    "rw(10)"
   ]
  },
  {
   "cell_type": "markdown",
   "metadata": {},
   "source": [
    "## Part B\n",
    "\n",
    "Now create a function called `rw2(n)`, where the argument `n` means the same thing that it did in Part A. Do so using `numpy` tools. Demonstrate your function as above, by creating a random walk of length 10. You can (and should) return your walk as a `numpy` array. \n",
    "\n",
    "**Requirements**: \n",
    "\n",
    "- No for-loops. \n",
    "- This function is simple enough to be implemented as a one-liner of fewer than 80 characters, using lambda notation. Even if you choose not to use lambda notation, the body of your function definition should be no more than three lines long. Importing `numpy` does not count as a line. \n",
    "- A docstring is required if and only if you take more than one line to define the function. \n",
    "\n",
    "**Hints**:\n",
    "\n",
    "- Check the documentation for `np.random.choice()`. \n",
    "- Discussion 12. "
   ]
  },
  {
   "cell_type": "code",
   "execution_count": 2,
   "metadata": {},
   "outputs": [
    {
     "data": {
      "text/plain": [
       "array([-1, -2, -1, -2, -3, -4, -3, -4, -3, -4])"
      ]
     },
     "execution_count": 2,
     "metadata": {},
     "output_type": "execute_result"
    }
   ],
   "source": [
    "# Import numpy\n",
    "import numpy as np\n",
    "# Random walk with numpy\n",
    "rw2 = lambda n : np.cumsum(np.random.choice([-1,1], n))\n",
    "# n = 10 demonstration\n",
    "rw2(10)"
   ]
  },
  {
   "cell_type": "markdown",
   "metadata": {},
   "source": [
    "## Part C\n",
    "\n",
    "Use the `%timeit` magic macro to compare the runtime of `rw()` and `rw2()`. Test how each function does in computing a random walk of length `n = 10000`. "
   ]
  },
  {
   "cell_type": "code",
   "execution_count": 3,
   "metadata": {},
   "outputs": [
    {
     "name": "stdout",
     "output_type": "stream",
     "text": [
      "5.21 ms ± 74.6 µs per loop (mean ± std. dev. of 7 runs, 100 loops each)\n"
     ]
    }
   ],
   "source": [
    "# time rw()\n",
    "%timeit rw(10000)"
   ]
  },
  {
   "cell_type": "code",
   "execution_count": 4,
   "metadata": {},
   "outputs": [
    {
     "name": "stdout",
     "output_type": "stream",
     "text": [
      "87.1 µs ± 1.26 µs per loop (mean ± std. dev. of 7 runs, 10000 loops each)\n"
     ]
    }
   ],
   "source": [
    "# time rw2()\n",
    "%timeit rw2(10000)"
   ]
  },
  {
   "cell_type": "markdown",
   "metadata": {},
   "source": [
    "## Part D\n",
    "\n",
    "Write a few sentences in which you comment on (a) the performance of each function and (b) the ease of writing and reading each function. "
   ]
  },
  {
   "cell_type": "markdown",
   "metadata": {},
   "source": [
    "### \\[It appears that rw() performed much slower than rw2(); the difference is miliseconds of computation time versus microseconds. However, it was easier writing rw() compared to rw2() because I find the for-loop method to be much more intuitive. For rw2() I have to think about how I could manipulate arrays to mimic the for-loop concept without actually using loops.\\]"
   ]
  },
  {
   "cell_type": "markdown",
   "metadata": {},
   "source": [
    "# Part E\n",
    "\n",
    "In this problem, we will perform a `d`-dimensional random walk. There are many ways to define such a walk. Here's the definition we'll use for this problem: \n",
    "\n",
    "> At each timestep, the walker takes one random step forward or backward **in each of `d` directions.** \n",
    "\n",
    "For example, in a two-dimensional walk on a grid, in each timestep the walker would take a step either north or south, and then another step either east or west. Another way to think about is as the walker taking a single \"diagonal\" step either northeast, southeast, southwest, or northwest. \n",
    "\n",
    "Write a function called `rw_d(n,d)` that implements a `d`-dimensional random walk. `n` is again the number of steps that the walker should take, and `d` is the dimension of the walk. The output should be given as a `numpy` array of shape `(n,d)`, where the `k`th row of the array specifies the position of the walker after `k` steps. For example: \n",
    "\n",
    "```python\n",
    "P = rw_d(5, 3)\n",
    "P\n",
    "```\n",
    "```\n",
    "array([[-1, -1, -1],\n",
    "       [ 0, -2, -2],\n",
    "       [-1, -3, -3],\n",
    "       [-2, -2, -2],\n",
    "       [-1, -3, -1]])\n",
    "```\n",
    "\n",
    "In this example, the third row `P[2,:] = [-1, -3, -3]` gives the position of the walk after 3 steps. \n",
    "\n",
    "Demonstrate your function by generating a 3d walk with 5 steps, as shown in the example above. \n",
    "\n",
    "All the same requirements and hints from Part B apply in this problem as well. It should be possible to solve this problem by making only a few small modifications to your solution from Part B. If you are finding that this is not possible, you may want to either (a) read the documentation for the relevant `numpy` functions more closely or (b) reconsider your Part B approach. "
   ]
  },
  {
   "cell_type": "code",
   "execution_count": 5,
   "metadata": {},
   "outputs": [
    {
     "data": {
      "text/plain": [
       "array([[-1,  1,  1],\n",
       "       [-2,  0,  2],\n",
       "       [-3,  1,  3],\n",
       "       [-2,  2,  2],\n",
       "       [-1,  1,  1]])"
      ]
     },
     "execution_count": 5,
     "metadata": {},
     "output_type": "execute_result"
    }
   ],
   "source": [
    "# Random d-dimensional walk with numpy\n",
    "rw_d = lambda n, d : np.cumsum(np.random.choice([-1,1], n*d).reshape(n,d), axis = 0)\n",
    "# 3d walk with 5 steps demonstration\n",
    "rw_d(5,3)"
   ]
  },
  {
   "cell_type": "markdown",
   "metadata": {},
   "source": [
    "## Part F\n",
    "\n",
    "In a few sentences, describe how you would have solved Part E without `numpy` tools. Take a guess as to how many lines it would have taken you to define the appropriate function. Based on your findings in Parts C and D, how would you expect its performance to compare to your `numpy`-based function from Part E? Which approach would your recommend? \n",
    "\n",
    "Note: while I obviously prefer the `numpy` approach, it is reasonable and valid to prefer the \"vanilla\" way instead. Either way, you should be ready to justify your preference on the basis of writeability, readability, and performance. "
   ]
  },
  {
   "cell_type": "markdown",
   "metadata": {},
   "source": [
    "**Part E could also be solved without using `numpy` tools and methods. Instead the function could be written using  for-loops and lists to ultimately create a list of lists. The basic idea is that each column from the array in part E would be represented as the cumulative sums of the n-elements of each of d-lists. To produce random positional values (i.e 1 or -1) I would use `random.choice([-1, 1])` as in part A. Iterating over the n elements I would create d lists of random positional values and continue to append cumulative values in the lists until there are n elements in total. This approach would likely take anywhere from 20-30 lines of code as I would have to write nested for-loops for initaializing the lists, producing the random values, and concatinating their cumulative values to the lists. The performance would be notably slower as we know that for-loops have longer run times than numpy methods. Creating nested for loops would significantly increase the run time as well. Therefore, while it would be possible to recreate part E, using the numpy method is preferred.**"
   ]
  },
  {
   "cell_type": "markdown",
   "metadata": {},
   "source": [
    "## Part G\n",
    "\n",
    "Generate a 2-dimensional random walk of length 20000. Think of the first column of the output as defining a horizontal coordinate, and the second column as defining a vertical coordinate. Plot the two dimensions on horizontal and vertical axes. You should be able to create some blob-like structures with intriguing shapes. \n",
    "\n",
    "You may be interested in looking at several other visualizations of multidimensional random walks [on Wikipedia](https://en.wikipedia.org/wiki/Random_walk). Your result in this part will not look exactly the same, but should look qualitatively fairly similar. \n",
    "\n",
    "You only need to show one plot. If you like, you might enjoy playing around with the plot settings. While `ax.plot()` is the normal method to use here, `ax.scatter()` with partially transparent points can also produce some intriguing images. "
   ]
  },
  {
   "cell_type": "code",
   "execution_count": 6,
   "metadata": {},
   "outputs": [
    {
     "data": {
      "image/png": "[encoded data removed]",
      "text/plain": [
       "<Figure size 432x288 with 1 Axes>"
      ]
     },
     "metadata": {
      "needs_background": "light"
     },
     "output_type": "display_data"
    }
   ],
   "source": [
    "# Import pyplot\n",
    "from matplotlib import pyplot as plt\n",
    "\n",
    "fig, ax = plt.subplots(1)\n",
    "# Set x and y axes\n",
    "x_ax = rw_d(20000,2)[:,0]\n",
    "y_ax = rw_d(20000,2)[:,1]\n",
    "# Plot the random walk\n",
    "ax.plot(x_ax, y_ax)\n",
    "fig.tight_layout()"
   ]
  },
  {
   "cell_type": "markdown",
   "metadata": {},
   "source": [
    "# NLP Problem"
   ]
  },
  {
   "cell_type": "markdown",
   "metadata": {},
   "source": [
    "In this problem, you will study the sentiment in a data set of tweets collected during the COVID-19 pandemic. To load the data set, run this block: "
   ]
  },
  {
   "cell_type": "code",
   "execution_count": 7,
   "metadata": {},
   "outputs": [],
   "source": [
    "import pandas as pd\n",
    "\n",
    "def grab_tweets():\n",
    "    \"\"\"\n",
    "    The user supplied these data already split into training and test sets. \n",
    "    This function downloads and combines them, returning a single data frame.\n",
    "    No arguments. \n",
    "    \"\"\"\n",
    "\n",
    "    url1 = \"https://raw.githubusercontent.com/PhilChodrow/PIC16A/master/datasets/Corona_NLP_train.csv\"\n",
    "    url2 = \"https://raw.githubusercontent.com/PhilChodrow/PIC16A/master/datasets/Corona_NLP_test.csv\"\n",
    "    \n",
    "    df1 = pd.read_csv(url1, encoding='iso-8859-1')\n",
    "    df2 = pd.read_csv(url2, encoding='iso-8859-1')\n",
    "    \n",
    "    return pd.concat((df1, df2), axis = 0).reset_index().drop(\"index\", axis = 1)\n",
    "\n",
    "df = grab_tweets()"
   ]
  },
  {
   "cell_type": "markdown",
   "metadata": {},
   "source": [
    "Perform a sentiment analysis of this data set. \n",
    "\n",
    "Many decisions are up to you. What machine learning method will you choose? How will you treat the `Sentiment` column and turn it into a target variable? Feel free to talk on Campuswire about various possibilities. You are welcome to ask me as well; however, I am likely to respond to questions like \"Should I do X?\" with answers like \"Did you try it? What alternatives did you consider?\"\n",
    "\n",
    "For full credit, you should do the following:  \n",
    "\n",
    "1. Explore the data set a bit. Figure out what each column means and develop a strategy for how you will use or not use it. Show your steps. \n",
    "1. Show that your model can make predictions of sentiment on unseen tweets.\n",
    "2. Show that your model can produce reasonable-looking lists of strong positive and strongly negative words. \n",
    "3. Display three tweets in which your model made a mistake -- e.g. it classified the tweet as positive when in fact it was negative, or vice-versa. \n",
    "4. Include liberal comments and surrounding text to explain your steps. If you define any functions, you must also include helpful docstrings. \n",
    "5. Most instances of for-loops will be docked a few points. There may be exceptions, but I can't think of any at the moment. Try to do the entire problem with no for-loops at all. \n",
    "\n",
    "OPTIONALLY, you may choose to look into the text classification tools in the `nltk` package. In this course, we have mostly treated `nltk` as a convenience tool for accessing certain data sets. However, `nltk` also implements its own versions of a number of highly useful functions for text analysis, including sentiment analysis. Section 1.3 of [this chapter](https://www.nltk.org/book/ch06.html) of the `nltk` manual can help you get started. Using `nltk` for this problem might help you get some better results and learn some nifty tricks, but is not at all required. \n",
    "\n",
    "#### Your Solution"
   ]
  },
  {
   "cell_type": "markdown",
   "metadata": {},
   "source": [
    "# Sentiment Analysis of COVID-19 Tweets"
   ]
  },
  {
   "cell_type": "markdown",
   "metadata": {},
   "source": [
    "In the following code below I will be performing a sentiment analysis on a data set of tweets collected during the COVID-19 pandemic. Here I try to go in-depth with understanding NLP, Sentiment Analysis, and modeling."
   ]
  },
  {
   "cell_type": "markdown",
   "metadata": {},
   "source": [
    "## Preparing the data"
   ]
  },
  {
   "cell_type": "markdown",
   "metadata": {},
   "source": [
    "We have already dowonloaded the data so first let's inspect the data we are working with."
   ]
  },
  {
   "cell_type": "code",
   "execution_count": 8,
   "metadata": {
    "scrolled": false
   },
   "outputs": [
    {
     "data": {
      "text/html": [
       "<div>\n",
       "<style scoped>\n",
       "    .dataframe tbody tr th:only-of-type {\n",
       "        vertical-align: middle;\n",
       "    }\n",
       "\n",
       "    .dataframe tbody tr th {\n",
       "        vertical-align: top;\n",
       "    }\n",
       "\n",
       "    .dataframe thead th {\n",
       "        text-align: right;\n",
       "    }\n",
       "</style>\n",
       "<table border=\"1\" class=\"dataframe\">\n",
       "  <thead>\n",
       "    <tr style=\"text-align: right;\">\n",
       "      <th></th>\n",
       "      <th>UserName</th>\n",
       "      <th>ScreenName</th>\n",
       "      <th>Location</th>\n",
       "      <th>TweetAt</th>\n",
       "      <th>OriginalTweet</th>\n",
       "      <th>Sentiment</th>\n",
       "    </tr>\n",
       "  </thead>\n",
       "  <tbody>\n",
       "    <tr>\n",
       "      <th>0</th>\n",
       "      <td>3799</td>\n",
       "      <td>48751</td>\n",
       "      <td>London</td>\n",
       "      <td>16-03-2020</td>\n",
       "      <td>@MeNyrbie @Phil_Gahan @Chrisitv https://t.co/i...</td>\n",
       "      <td>Neutral</td>\n",
       "    </tr>\n",
       "    <tr>\n",
       "      <th>1</th>\n",
       "      <td>3800</td>\n",
       "      <td>48752</td>\n",
       "      <td>UK</td>\n",
       "      <td>16-03-2020</td>\n",
       "      <td>advice Talk to your neighbours family to excha...</td>\n",
       "      <td>Positive</td>\n",
       "    </tr>\n",
       "    <tr>\n",
       "      <th>2</th>\n",
       "      <td>3801</td>\n",
       "      <td>48753</td>\n",
       "      <td>Vagabonds</td>\n",
       "      <td>16-03-2020</td>\n",
       "      <td>Coronavirus Australia: Woolworths to give elde...</td>\n",
       "      <td>Positive</td>\n",
       "    </tr>\n",
       "    <tr>\n",
       "      <th>3</th>\n",
       "      <td>3802</td>\n",
       "      <td>48754</td>\n",
       "      <td>NaN</td>\n",
       "      <td>16-03-2020</td>\n",
       "      <td>My food stock is not the only one which is emp...</td>\n",
       "      <td>Positive</td>\n",
       "    </tr>\n",
       "    <tr>\n",
       "      <th>4</th>\n",
       "      <td>3803</td>\n",
       "      <td>48755</td>\n",
       "      <td>NaN</td>\n",
       "      <td>16-03-2020</td>\n",
       "      <td>Me, ready to go at supermarket during the #COV...</td>\n",
       "      <td>Extremely Negative</td>\n",
       "    </tr>\n",
       "    <tr>\n",
       "      <th>5</th>\n",
       "      <td>3804</td>\n",
       "      <td>48756</td>\n",
       "      <td>ÃT: 36.319708,-82.363649</td>\n",
       "      <td>16-03-2020</td>\n",
       "      <td>As news of the regionÂs first confirmed COVID...</td>\n",
       "      <td>Positive</td>\n",
       "    </tr>\n",
       "    <tr>\n",
       "      <th>6</th>\n",
       "      <td>3805</td>\n",
       "      <td>48757</td>\n",
       "      <td>35.926541,-78.753267</td>\n",
       "      <td>16-03-2020</td>\n",
       "      <td>Cashier at grocery store was sharing his insig...</td>\n",
       "      <td>Positive</td>\n",
       "    </tr>\n",
       "    <tr>\n",
       "      <th>7</th>\n",
       "      <td>3806</td>\n",
       "      <td>48758</td>\n",
       "      <td>Austria</td>\n",
       "      <td>16-03-2020</td>\n",
       "      <td>Was at the supermarket today. Didn't buy toile...</td>\n",
       "      <td>Neutral</td>\n",
       "    </tr>\n",
       "    <tr>\n",
       "      <th>8</th>\n",
       "      <td>3807</td>\n",
       "      <td>48759</td>\n",
       "      <td>Atlanta, GA USA</td>\n",
       "      <td>16-03-2020</td>\n",
       "      <td>Due to COVID-19 our retail store and classroom...</td>\n",
       "      <td>Positive</td>\n",
       "    </tr>\n",
       "    <tr>\n",
       "      <th>9</th>\n",
       "      <td>3808</td>\n",
       "      <td>48760</td>\n",
       "      <td>BHAVNAGAR,GUJRAT</td>\n",
       "      <td>16-03-2020</td>\n",
       "      <td>For corona prevention,we should stop to buy th...</td>\n",
       "      <td>Negative</td>\n",
       "    </tr>\n",
       "  </tbody>\n",
       "</table>\n",
       "</div>"
      ],
      "text/plain": [
       "   UserName  ScreenName                   Location     TweetAt  \\\n",
       "0      3799       48751                     London  16-03-2020   \n",
       "1      3800       48752                         UK  16-03-2020   \n",
       "2      3801       48753                  Vagabonds  16-03-2020   \n",
       "3      3802       48754                        NaN  16-03-2020   \n",
       "4      3803       48755                        NaN  16-03-2020   \n",
       "5      3804       48756  ÃT: 36.319708,-82.363649  16-03-2020   \n",
       "6      3805       48757       35.926541,-78.753267  16-03-2020   \n",
       "7      3806       48758                    Austria  16-03-2020   \n",
       "8      3807       48759            Atlanta, GA USA  16-03-2020   \n",
       "9      3808       48760           BHAVNAGAR,GUJRAT  16-03-2020   \n",
       "\n",
       "                                       OriginalTweet           Sentiment  \n",
       "0  @MeNyrbie @Phil_Gahan @Chrisitv https://t.co/i...             Neutral  \n",
       "1  advice Talk to your neighbours family to excha...            Positive  \n",
       "2  Coronavirus Australia: Woolworths to give elde...            Positive  \n",
       "3  My food stock is not the only one which is emp...            Positive  \n",
       "4  Me, ready to go at supermarket during the #COV...  Extremely Negative  \n",
       "5  As news of the regionÂs first confirmed COVID...            Positive  \n",
       "6  Cashier at grocery store was sharing his insig...            Positive  \n",
       "7  Was at the supermarket today. Didn't buy toile...             Neutral  \n",
       "8  Due to COVID-19 our retail store and classroom...            Positive  \n",
       "9  For corona prevention,we should stop to buy th...            Negative  "
      ]
     },
     "execution_count": 8,
     "metadata": {},
     "output_type": "execute_result"
    }
   ],
   "source": [
    "# Insepct the data\n",
    "df.head(10)"
   ]
  },
  {
   "cell_type": "code",
   "execution_count": 9,
   "metadata": {},
   "outputs": [
    {
     "data": {
      "text/plain": [
       "(44955, 6)"
      ]
     },
     "execution_count": 9,
     "metadata": {},
     "output_type": "execute_result"
    }
   ],
   "source": [
    "df.shape"
   ]
  },
  {
   "cell_type": "markdown",
   "metadata": {},
   "source": [
    "**Description of data**\n",
    "- \"UserName\"      : Unique id number for each twitter username\n",
    "- \"ScreenName\"    : Unique id number for each twitter screenname\n",
    "- \"Location\"      : Location (Categorical Variable)\n",
    "- \"TweetAt\"       : Date (Categorical Variable)\n",
    "- \"OriginalTweet\" : Actual tweet (Text Data)\n",
    "- \"Sentiment\" : Sentiment of tweet (Categorical Data)\n"
   ]
  },
  {
   "cell_type": "markdown",
   "metadata": {},
   "source": [
    "From the information above we can see that we are working with a fairly large dataset with 44,955 tweets and 6 variables. Now we will check the datatypes of each column and also check to see if there are any null values present. We also want to begin to explore the columns which are of interest to sentiment analysis."
   ]
  },
  {
   "cell_type": "code",
   "execution_count": 10,
   "metadata": {
    "scrolled": false
   },
   "outputs": [
    {
     "name": "stdout",
     "output_type": "stream",
     "text": [
      "<class 'pandas.core.frame.DataFrame'>\n",
      "RangeIndex: 44955 entries, 0 to 44954\n",
      "Data columns (total 6 columns):\n",
      " #   Column         Non-Null Count  Dtype \n",
      "---  ------         --------------  ----- \n",
      " 0   UserName       44955 non-null  int64 \n",
      " 1   ScreenName     44955 non-null  int64 \n",
      " 2   Location       35531 non-null  object\n",
      " 3   TweetAt        44955 non-null  object\n",
      " 4   OriginalTweet  44955 non-null  object\n",
      " 5   Sentiment      44955 non-null  object\n",
      "dtypes: int64(2), object(4)\n",
      "memory usage: 2.1+ MB\n"
     ]
    }
   ],
   "source": [
    "# Check for data types\n",
    "df.info()"
   ]
  },
  {
   "cell_type": "code",
   "execution_count": 11,
   "metadata": {},
   "outputs": [
    {
     "data": {
      "text/plain": [
       "(44955, 44955)"
      ]
     },
     "execution_count": 11,
     "metadata": {},
     "output_type": "execute_result"
    }
   ],
   "source": [
    "# Check to see unique ids\n",
    "len(set(df.UserName)), len(set(df.ScreenName))"
   ]
  },
  {
   "cell_type": "markdown",
   "metadata": {},
   "source": [
    "We see that the only columns with null values present is the `Location` column. Furthermore, the ID columns all have unique ID's meaning every tweet is from a different user. These features do not affect our analysis since we require only the sentiment and text fields for sentiment analysis. Accordingly, we discard the rest of the data. Let's also extract the unique values of `Sentiment` to get an idea what our target variables look like. "
   ]
  },
  {
   "cell_type": "code",
   "execution_count": 12,
   "metadata": {},
   "outputs": [
    {
     "data": {
      "text/plain": [
       "{'Extremely Negative', 'Extremely Positive', 'Negative', 'Neutral', 'Positive'}"
      ]
     },
     "execution_count": 12,
     "metadata": {},
     "output_type": "execute_result"
    }
   ],
   "source": [
    "# Remove unnecessary columns from data set\n",
    "df = df[['OriginalTweet', 'Sentiment']]\n",
    "# Unique sentiments\n",
    "set(df.Sentiment)"
   ]
  },
  {
   "cell_type": "markdown",
   "metadata": {},
   "source": [
    "Now we are left with just the original tweets and their sentiments and we seek to create a `term-document matirx`, which is a mathematical matrix that describes the frequency of terms that occur in a collection of documents. \n",
    "\n",
    "Note: When the argument `stop_words` of `CountVectorizer` is set to 'english' a built-in stop word list for English is used. `min_df` specifes the minimum frequency threshold for which words with frequencies below it are ignored. This allows us to filter out words and strings of characters that are not used very frequently when building our vocabulary."
   ]
  },
  {
   "cell_type": "code",
   "execution_count": 13,
   "metadata": {},
   "outputs": [],
   "source": [
    "# Import Count Vectorizer\n",
    "from sklearn.feature_extraction.text import CountVectorizer\n",
    "# Create an instance of a CountVectorizer\n",
    "vec = CountVectorizer(min_df = 30, stop_words = 'english')\n",
    "# Convert counts into a matrix\n",
    "counts = vec.fit_transform(df[\"OriginalTweet\"])\n",
    "# Convert to dataframe \n",
    "count_df = pd.DataFrame(counts.toarray(), columns = vec.get_feature_names())\n",
    "# Concatenate the two dataframes\n",
    "df = pd.concat((df, count_df), axis = 1)"
   ]
  },
  {
   "cell_type": "code",
   "execution_count": 14,
   "metadata": {},
   "outputs": [
    {
     "data": {
      "text/plain": [
       "(44955, 3270)"
      ]
     },
     "execution_count": 14,
     "metadata": {},
     "output_type": "execute_result"
    }
   ],
   "source": [
    "df.shape"
   ]
  },
  {
   "cell_type": "markdown",
   "metadata": {},
   "source": [
    "We now have a term-doument matrix attached to our original dataframe. Each row contains a tweet, sentiment, and a count of the specific words that are in that tweet. We are now ready to create and train a model."
   ]
  },
  {
   "cell_type": "markdown",
   "metadata": {},
   "source": [
    "## Building a model"
   ]
  },
  {
   "cell_type": "markdown",
   "metadata": {},
   "source": [
    "Our first step before modeling our data is to encode the sentiments with numeric values. We do this because machine learning models do not understand text. \n",
    "\n",
    "The steps we take below are crucial because they will have significant implications on our successive modeling. We seek to simplify the sentiments to make this a binary classification problem. We group `Extremely Positive` tweets and `Positive` tweets together since they are both positive, and we group `Extremely Negative` and `Negative` tweets together since they are both negative. We also remove neutral tweets from the data to disregard them as they are out of our binary classification scope; we are interested in positive vs negative tweets."
   ]
  },
  {
   "cell_type": "code",
   "execution_count": 15,
   "metadata": {},
   "outputs": [],
   "source": [
    "# Remove Neutral tweets\n",
    "df = df[df['Sentiment']  != 'Neutral']\n",
    "# Dictionary for encoding sentiments\n",
    "sentiment_map = {'Positive'           : 1,\n",
    "                 'Extremely Positive' : 1,\n",
    "                 'Negative'           : 0,\n",
    "                 'Extremely Negative' : 0}\n",
    "# Encode sentiments according to map\n",
    "df['Sentiment'] = df['Sentiment'].apply(lambda x : sentiment_map[x])"
   ]
  },
  {
   "cell_type": "markdown",
   "metadata": {},
   "source": [
    "Our goal is to build a model which predicts the sentiments of a tweet based on the words in the tweet. Now that the data is selected and cleaned, we split it into training and testing data at the proportion 70 : 30. We split the data accordingly in order to have a set of the data which will be used to train our  model and test data which will be used to determine the accuracy of our model and deem necessary adjustments to our model’s parameters."
   ]
  },
  {
   "cell_type": "code",
   "execution_count": 16,
   "metadata": {},
   "outputs": [],
   "source": [
    "# Import train test split\n",
    "from sklearn.model_selection import train_test_split\n",
    "# Split data into train and test set\n",
    "train, test = train_test_split(df, test_size = 0.3)\n",
    "# Split train set into predictors and target\n",
    "X_train = train.drop(['OriginalTweet', 'Sentiment'], axis = 1 )\n",
    "y_train = train['Sentiment']\n",
    "# Split train set into predictors and target\n",
    "X_test = test.drop(['OriginalTweet', 'Sentiment'], axis = 1 )\n",
    "y_test =  test['Sentiment']"
   ]
  },
  {
   "cell_type": "markdown",
   "metadata": {},
   "source": [
    "We will build a Logistic Regression model from the  `sklearn.linear_model` module. Logistic regression is a machine learning classification algorithm that is used to predict the probability of a categorical dependent variable, which in our case is the sentiment of a tweet. We are interested in finding the optimal value for the parameter C, the inverse regularization parameter, that will give us the best score on our test data. We begin by inspecting a model with a default C value."
   ]
  },
  {
   "cell_type": "code",
   "execution_count": 17,
   "metadata": {},
   "outputs": [
    {
     "data": {
      "text/plain": [
       "(0.9057185208300828, 0.8520979339219077)"
      ]
     },
     "execution_count": 17,
     "metadata": {},
     "output_type": "execute_result"
    }
   ],
   "source": [
    "# Import Logistic Regression\n",
    "from sklearn.linear_model import LogisticRegression\n",
    "# Adjust max_iter to iterate over all rows of data\n",
    "LR = LogisticRegression(max_iter = 40000)\n",
    "# Fit LR model to train set\n",
    "# Compute model's scores on train and test set\n",
    "LR.fit(X_train, y_train)\n",
    "LR.score(X_train, y_train), LR.score(X_test, y_test)"
   ]
  },
  {
   "cell_type": "markdown",
   "metadata": {},
   "source": [
    "The score on both the training and testing set are fairly strong, however, the test score is approximately 60 basepoints lower which can be a sign of overfitting. In order to find an optimal c-value, we will implement a simple cross-validation method over a range of c-values."
   ]
  },
  {
   "cell_type": "code",
   "execution_count": 18,
   "metadata": {
    "scrolled": true
   },
   "outputs": [
    {
     "name": "stdout",
     "output_type": "stream",
     "text": [
      "0.1: 0.835\n",
      "0.2: 0.841\n",
      "0.3: 0.844\n",
      "0.4: 0.845\n",
      "0.5: 0.846\n",
      "0.6: 0.846\n",
      "0.7: 0.847\n",
      "0.8: 0.848\n",
      "0.9: 0.847\n",
      "1.0: 0.846\n"
     ]
    }
   ],
   "source": [
    "# Import CV score\n",
    "from sklearn.model_selection import cross_val_score\n",
    "# Iterate over a range of C values\n",
    "for C in np.linspace(0.1, 1, 10):\n",
    "    print(str(np.round(C, 4)), end = \": \")\n",
    "    LR = LogisticRegression(C = C, max_iter = 40000)\n",
    "    cv_score = cross_val_score(LR, X_train, y_train, cv = 5).mean()\n",
    "    print(np.round(cv_score, 3))"
   ]
  },
  {
   "cell_type": "markdown",
   "metadata": {},
   "source": [
    "From above we observe that the cross validation score is roughly maxmized at a c-value of 0.5. Based on this value we train a linear logistic regression model."
   ]
  },
  {
   "cell_type": "code",
   "execution_count": 19,
   "metadata": {},
   "outputs": [
    {
     "data": {
      "text/plain": [
       "(0.9003354657512872, 0.8500045508328024)"
      ]
     },
     "execution_count": 19,
     "metadata": {},
     "output_type": "execute_result"
    }
   ],
   "source": [
    "LR = LogisticRegression(C = 0.5, max_iter = 40000)\n",
    "# Fit LR model to train set\n",
    "# Compute model's scores on train and test set\n",
    "LR.fit(X_train, y_train)\n",
    "LR.score(X_train, y_train), LR.score(X_test, y_test)"
   ]
  },
  {
   "cell_type": "markdown",
   "metadata": {},
   "source": [
    "This time we acheive a more desirable outcome with the model performing slighlty lower on the training data but  better on the test data than before. From this model we can start to explore the actual behavior of our model and how it gave different weights to specific words. "
   ]
  },
  {
   "cell_type": "markdown",
   "metadata": {},
   "source": [
    "## Evaluating results"
   ]
  },
  {
   "cell_type": "markdown",
   "metadata": {},
   "source": [
    "First we would like to see if our model can produce lists of strongly positive and negative words. We do this by creating a dataframe with rows associating words and their corresponding coefficient values. By sorting and subsetting this dataframe we can create lists of the top postitive and negative words."
   ]
  },
  {
   "cell_type": "code",
   "execution_count": 20,
   "metadata": {},
   "outputs": [
    {
     "data": {
      "text/plain": [
       "['crisis',\n",
       " 'scams',\n",
       " 'forced',\n",
       " 'kill',\n",
       " 'died',\n",
       " 'war',\n",
       " 'hell',\n",
       " 'crude',\n",
       " 'shit',\n",
       " 'worst']"
      ]
     },
     "execution_count": 20,
     "metadata": {},
     "output_type": "execute_result"
    }
   ],
   "source": [
    "# Dataframe of coefficients and words\n",
    "result_df = pd.DataFrame({\"coef\" : LR.coef_[0], \"word\" : X_train.columns})\n",
    "# List of negative words\n",
    "list(result_df.sort_values('coef', ascending = True).head(10).word)"
   ]
  },
  {
   "cell_type": "code",
   "execution_count": 21,
   "metadata": {},
   "outputs": [
    {
     "data": {
      "text/plain": [
       "['best',\n",
       " 'love',\n",
       " 'free',\n",
       " 'great',\n",
       " 'hand',\n",
       " 'friend',\n",
       " 'thanks',\n",
       " 'positive',\n",
       " 'won',\n",
       " 'confidence']"
      ]
     },
     "execution_count": 21,
     "metadata": {},
     "output_type": "execute_result"
    }
   ],
   "source": [
    "# List of positive words\n",
    "list(result_df.sort_values('coef', ascending = False).head(10).word)"
   ]
  },
  {
   "cell_type": "markdown",
   "metadata": {},
   "source": [
    "These results seem to be intuitively accurate - negative words are mostly pessemistic and the positive words are affirmative. Next let's evaluate some of the mistakes of the model.\n",
    "\n",
    "Evaluating the mistakes of a model is an important process of machine learning, as we should always seek to understand why the mistakes happend and try to improve on them in the future.  To visualize our mistakes, we will use a powerful tool from `sklearn.metrics` called `consufion_matrix`. `consufion_matrix` will visualize the predictions against the truth data in a matrix. Inside the matrix, the ( i , j )-th entry gives the number of times that the model predictes data as \"i\" when it should be \"j\"."
   ]
  },
  {
   "cell_type": "code",
   "execution_count": 36,
   "metadata": {
    "scrolled": false
   },
   "outputs": [
    {
     "name": "stdout",
     "output_type": "stream",
     "text": [
      "[[4270  772]\n",
      " [ 847 5098]]\n",
      "\n",
      "Mistakes: 1619\n",
      "\n"
     ]
    }
   ],
   "source": [
    "# Import confusion matrix\n",
    "from sklearn.metrics import confusion_matrix\n",
    "\n",
    "#set up confusion model\n",
    "y_test_pred = LR.predict(X_test)\n",
    "c1 = confusion_matrix(y_test, y_test_pred)\n",
    "print(c1)\n",
    "\n",
    "# find the mistakes, \n",
    "# and choose some right example to compare\n",
    "mistakes = X_test[y_test != y_test_pred]\n",
    "# True sentiments\n",
    "mistake_labels = y_test[y_test != y_test_pred]\n",
    "# Predicted sentiments\n",
    "mistake_preds = y_test_pred[y_test != y_test_pred]\n",
    "\n",
    "print(\"\")\n",
    "print(\"Mistakes: \" + str(len(mistakes)))\n",
    "print(\"\")"
   ]
  },
  {
   "cell_type": "markdown",
   "metadata": {},
   "source": [
    "Our model made 1661 mistakes. To understand some of these mistakes better, let's inspect three instances where the model made a mistake."
   ]
  },
  {
   "cell_type": "code",
   "execution_count": 37,
   "metadata": {},
   "outputs": [
    {
     "name": "stdout",
     "output_type": "stream",
     "text": [
      "1\n",
      "Prediction: Positive\n",
      "True: Negative\n",
      "Tweet: 8429\n",
      "Original Tweet: Confession.\r",
      "\r\n",
      "Covid-19 destroyed my reasonable eating habits because the there are few healthy products in the grocery store/\"whole foods\" left. Today I ate a full box of Annie's mac and cheese, two mini cakes in jar. Buttermilk biscuits for breakfast. I never eat this stuff\n",
      "--------------------------\n",
      "\n",
      "2\n",
      "Prediction: Negative\n",
      "True: Positive\n",
      "Tweet: 4639\n",
      "Original Tweet: .@dougducey thanked @katiehobbs for a successful #Democratic primary, plus emergency and grocery store workers, during #coronavirus spread. He says give blood, give blood, #GiveBlood. @KTAR923 https://t.co/OCUp2woSTP\n",
      "--------------------------\n",
      "\n",
      "3\n",
      "Prediction: Negative\n",
      "True: Positive\n",
      "Tweet: 14570\n",
      "Original Tweet: After the Great Depression &amp; WWII, Governments realised that decent living conditions for all, rather than greedy corporations or nationalistic leaders, produce decent citizens.\r",
      "\r\n",
      "\r",
      "\r\n",
      "#StopHoarding doesn't just apply to food &amp; loo roll: it applies to housing, wealth &amp; opportunity too. https://t.co/J9CILadvCc\n",
      "--------------------------\n",
      "\n"
     ]
    }
   ],
   "source": [
    "# Based on how sentiments were coded above\n",
    "pos_fal_dict = {1:'Positive', 0:'Negative'}\n",
    "\n",
    "# Use for loop to show the mistakes table\n",
    "for i in range(len(mistakes[0:3])):\n",
    "    print(i+1)\n",
    "    print(\"Prediction: \" + str(pos_fal_dict[mistake_preds[i]])) \n",
    "    print(\"True: \" + str(pos_fal_dict[mistake_labels.values[i]]))\n",
    "    print(\"Tweet: \" + str(mistakes[:3].index[i]))\n",
    "    print(\"Original Tweet: \" + str(df.loc[mistakes[:3].index[i]].OriginalTweet))\n",
    "    print(\"--------------------------\")\n",
    "    print(\"\")"
   ]
  },
  {
   "cell_type": "markdown",
   "metadata": {},
   "source": [
    "The first mistake is a negative tweet that the model predicts as positive. While the tweet contains negative words like \"douchebag\", there are also positive words like \"raise\" which potentially mislead the model. One reason as to why the negative word didn't outweigh the positive words is that there weren't enough instances of the word \"douchebag\" observed in the dataset for the model to learn that it's a negative word.\n",
    "\n",
    "The second mistake is a positive tweet that the model predicts as negative. This may be due to the tweet containing words such as \"Covid-19\" or \"overtime\" which have negative connotations.\n",
    "\n",
    "The third mistake is a negative tweet that the model predicts as positive. This tweet contains the words \"payment\" and \"trustee\" which have positive connotations."
   ]
  },
  {
   "cell_type": "markdown",
   "metadata": {},
   "source": [
    "## Conclusion"
   ]
  },
  {
   "cell_type": "markdown",
   "metadata": {},
   "source": [
    "The linear logistic regression model we built based on the sentiment analysis gave an 85% accuracy on the test data. This is a fairly strong result but in machine learning we always seek to find ways to improve on the accuracy. One possible way this can be acheived is by taking a more thorough approach to creating the term-matrix documet. In the code above I ignore 'english' keywords as well as set a minimum frequency to filter out certain words with low frequencies. I set these parameter arguments based on trial and error, however, I could\n",
    " try to be more methodological and find an optimal parameter setting for my term-document matrix that would give me the best counts of words that have the strongest impact on my successive model."
   ]
  }
 ],
 "metadata": {
  "kernelspec": {
   "display_name": "Python 3",
   "language": "python",
   "name": "python3"
  },
  "language_info": {
   "codemirror_mode": {
    "name": "ipython",
    "version": 3
   },
   "file_extension": ".py",
   "mimetype": "text/x-python",
   "name": "python",
   "nbconvert_exporter": "python",
   "pygments_lexer": "ipython3",
   "version": "3.8.3"
  }
 },
 "nbformat": 4,
 "nbformat_minor": 4
}
